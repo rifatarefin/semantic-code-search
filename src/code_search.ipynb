{
 "cells": [
  {
   "cell_type": "code",
   "execution_count": 1,
   "metadata": {},
   "outputs": [],
   "source": [
    "import pickle\n",
    "import re\n",
    "import shutil\n",
    "import sys\n",
    "\n",
    "from annoy import AnnoyIndex\n",
    "from docopt import docopt\n",
    "from dpu_utils.utils import RichPath\n",
    "import pandas as pd\n",
    "from tqdm import tqdm\n",
    "import wandb\n",
    "from wandb.apis import InternalApi\n",
    "\n",
    "from dataextraction.python.parse_python_data import tokenize_docstring_from_string\n",
    "import model_restore_helper"
   ]
  },
  {
   "cell_type": "code",
   "execution_count": 2,
   "metadata": {},
   "outputs": [],
   "source": [
    "def query_model(query, model, indices, language, topk=100):\n",
    "    query_embedding = model.get_query_representations([{'docstring_tokens': tokenize_docstring_from_string(query),\n",
    "                                                        'language': language}])[0]\n",
    "    idxs, distances = indices.get_nns_by_vector(query_embedding, topk, include_distances=True)\n",
    "    return idxs, distances"
   ]
  },
  {
   "cell_type": "code",
   "execution_count": 4,
   "metadata": {},
   "outputs": [
    {
     "name": "stdout",
     "output_type": "stream",
     "text": [
      "Restoring model from ../resources/saved_models/neuralbowmodel-2020-09-28-04-57-49_model_best.pkl.gz\n",
      "WARNING:tensorflow:From /home/dev/src/models/model.py:299: calling norm (from tensorflow.python.ops.linalg_ops) with keep_dims is deprecated and will be removed in a future version.\n",
      "Instructions for updating:\n",
      "keep_dims is deprecated, use keepdims instead\n"
     ]
    }
   ],
   "source": [
    "local_model_path = '../resources/saved_models/neuralbowmodel-2020-09-28-04-57-49_model_best.pkl.gz'\n",
    "model_path = RichPath.create(local_model_path, None)\n",
    "print(\"Restoring model from %s\" % model_path)\n",
    "model = model_restore_helper.restore(\n",
    "    path=model_path,\n",
    "    is_train=False,\n",
    "    hyper_overrides={})"
   ]
  },
  {
   "cell_type": "code",
   "execution_count": 3,
   "metadata": {},
   "outputs": [
    {
     "name": "stdout",
     "output_type": "stream",
     "text": [
      "Fetching run from W&B...\n",
      "Fetching run files from W&B...\n",
      "Restoring model from ./neuralbowmodel-2020-10-18-19-21-28_model_best.pkl.gz\n",
      "WARNING:tensorflow:From /home/dev/src/models/model.py:299: calling norm (from tensorflow.python.ops.linalg_ops) with keep_dims is deprecated and will be removed in a future version.\n",
      "Instructions for updating:\n",
      "keep_dims is deprecated, use keepdims instead\n"
     ]
    }
   ],
   "source": [
    "args_wandb_run_id = \"ligerfotis/semantic-code-search-src/2o0bi8kg\"\n",
    "# validate format of runid:\n",
    "if len(args_wandb_run_id.split('/')) != 3:\n",
    "    print(\"ERROR: Invalid wandb_run_id format: %s (Expecting: user/project/hash)\" % args_wandb_run_id, file=sys.stderr)\n",
    "    sys.exit(1)\n",
    "wandb_api = wandb.Api()\n",
    "# retrieve saved model from W&B for this run\n",
    "print(\"Fetching run from W&B...\")\n",
    "try:\n",
    "    run = wandb_api.run(args_wandb_run_id)\n",
    "except wandb.CommError as e:\n",
    "    print(\"ERROR: Problem querying W&B for wandb_run_id: %s\" % args_wandb_run_id, file=sys.stderr)\n",
    "    sys.exit(1)\n",
    "\n",
    " \n",
    "\n",
    "print(\"Fetching run files from W&B...\")\n",
    "gz_run_files = [f for f in run.files() if f.name.endswith('gz')]\n",
    "if not gz_run_files:\n",
    "    print(\"ERROR: Run contains no model-like files\")\n",
    "    sys.exit(1)\n",
    "model_file = gz_run_files[0].download(replace=True)\n",
    "local_model_path = model_file.name\n",
    "run_id = args_wandb_run_id.split('/')[-1]\n",
    "\n",
    "model_path = RichPath.create(local_model_path, None)\n",
    "print(\"Restoring model from %s\" % model_path)\n",
    "model = model_restore_helper.restore(\n",
    "    path=model_path,\n",
    "    is_train=False,\n",
    "    hyper_overrides={})"
   ]
  },
  {
   "cell_type": "code",
   "execution_count": 4,
   "metadata": {},
   "outputs": [
    {
     "name": "stdout",
     "output_type": "stream",
     "text": [
      "Evaluating language: python\n"
     ]
    },
    {
     "name": "stderr",
     "output_type": "stream",
     "text": [
      "100%|██████████| 1156085/1156085 [00:03<00:00, 334462.19it/s]\n"
     ]
    },
    {
     "name": "stdout",
     "output_type": "stream",
     "text": [
      "get_code_representations\n"
     ]
    }
   ],
   "source": [
    "predictions = []\n",
    "language = 'python'\n",
    "print(\"Evaluating language: %s\" % language)\n",
    "definitions = pickle.load(open('../resources/data/{}_dedupe_definitions_v2.pkl'.format(language), 'rb'))\n",
    "indexes = [{'code_tokens': d['function_tokens'], 'language': d['language']} for d in tqdm(definitions)]\n",
    "code_representations = model.get_code_representations(indexes[:int(len(indexes)/5)])"
   ]
  },
  {
   "cell_type": "code",
   "execution_count": null,
   "metadata": {},
   "outputs": [],
   "source": [
    "print(len(indexes))"
   ]
  },
  {
   "cell_type": "code",
   "execution_count": 5,
   "metadata": {},
   "outputs": [
    {
     "name": "stderr",
     "output_type": "stream",
     "text": [
      "231217it [00:06, 36358.27it/s]\n"
     ]
    },
    {
     "data": {
      "text/plain": [
       "True"
      ]
     },
     "execution_count": 5,
     "metadata": {},
     "output_type": "execute_result"
    }
   ],
   "source": [
    "indices = AnnoyIndex(code_representations[0].shape[0], 'angular')\n",
    "for index, vector in tqdm(enumerate(code_representations)):\n",
    "    if vector is not None:\n",
    "        indices.add_item(index, vector)\n",
    "indices.build(200)"
   ]
  },
  {
   "cell_type": "code",
   "execution_count": 6,
   "metadata": {},
   "outputs": [],
   "source": [
    "query = 'matrix multiply'"
   ]
  },
  {
   "cell_type": "code",
   "execution_count": 8,
   "metadata": {},
   "outputs": [
    {
     "name": "stdout",
     "output_type": "stream",
     "text": [
      "Top ten results\n",
      "https://github.com/apache/spark/blob/618d6bff71073c8c93501ab7392c3cc579730f0b/python/pyspark/mllib/linalg/distributed.py#L373-L389\n",
      "https://github.com/apache/spark/blob/618d6bff71073c8c93501ab7392c3cc579730f0b/python/pyspark/mllib/linalg/distributed.py#L705-L720\n",
      "https://github.com/pymupdf/PyMuPDF/blob/917f2d83482510e26ba0ff01fd2392c26f3a8e90/fitz/fitz.py#L270-L275\n",
      "https://github.com/pikepdf/pikepdf/blob/07154f4dec007e2e9c0c6a8c07b964fd06bc5f77/src/pikepdf/models/matrix.py#L63-L79\n",
      "https://github.com/tensorflow/cleverhans/blob/97488e215760547b81afc53f5e5de8ba7da5bd98/cleverhans/utils_tf.py#L561-L569\n",
      "https://github.com/pymupdf/PyMuPDF/blob/917f2d83482510e26ba0ff01fd2392c26f3a8e90/fitz/fitz.py#L277-L284\n",
      "https://github.com/pandas-dev/pandas/blob/9feb3ad92cc0397a04b665803a49299ee7aa1037/pandas/core/frame.py#L1026-L1030\n",
      "https://github.com/quantumlib/Cirq/blob/0827da80dd7880e5b923eb69407e980ed9bc0bd2/cirq/ops/matrix_gates.py#L38-L47\n",
      "https://github.com/materialsproject/pymatgen/blob/4ca558cf72f8d5f8a1f21dfdfc0181a971c186da/pymatgen/core/operations.py#L196-L202\n",
      "https://github.com/keon/algorithms/blob/4d6569464a62a75c1357acc97e2dd32ee2f9f4a3/algorithms/matrix/multiply.py#L10-L28\n"
     ]
    }
   ],
   "source": [
    "for idx, _ in zip(*query_model(query, model, indices, language)):\n",
    "    predictions.append((query, language, definitions[idx]['identifier'], definitions[idx]['url']))\n",
    "\n",
    "df = pd.DataFrame(predictions, columns=['query', 'language', 'identifier', 'url'])\n",
    "urls = list(df['url'])\n",
    "print(\"Top ten results\")\n",
    "for link in urls[:10]:\n",
    "    print(link)"
   ]
  },
  {
   "cell_type": "code",
   "execution_count": null,
   "metadata": {},
   "outputs": [],
   "source": [
    "df.head(10)"
   ]
  }
 ],
 "metadata": {
  "kernelspec": {
   "display_name": "Python 3",
   "language": "python",
   "name": "python3"
  },
  "language_info": {
   "codemirror_mode": {
    "name": "ipython",
    "version": 3
   },
   "file_extension": ".py",
   "mimetype": "text/x-python",
   "name": "python",
   "nbconvert_exporter": "python",
   "pygments_lexer": "ipython3",
   "version": "3.6.12"
  }
 },
 "nbformat": 4,
 "nbformat_minor": 4
}
