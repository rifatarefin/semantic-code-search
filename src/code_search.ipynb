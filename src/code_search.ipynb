{
 "cells": [
  {
   "cell_type": "code",
   "execution_count": 2,
   "metadata": {},
   "outputs": [],
   "source": [
    "import pickle\n",
    "import re\n",
    "import shutil\n",
    "import sys\n",
    "\n",
    "from annoy import AnnoyIndex\n",
    "from docopt import docopt\n",
    "from dpu_utils.utils import RichPath\n",
    "import pandas as pd\n",
    "from tqdm import tqdm\n",
    "import wandb\n",
    "from wandb.apis import InternalApi\n",
    "\n",
    "from dataextraction.python.parse_python_data import tokenize_docstring_from_string\n",
    "import model_restore_helper"
   ]
  },
  {
   "cell_type": "code",
   "execution_count": 3,
   "metadata": {},
   "outputs": [],
   "source": [
    "def query_model(query, model, indices, language, topk=100):\n",
    "    query_embedding = model.get_query_representations([{'docstring_tokens': tokenize_docstring_from_string(query),\n",
    "                                                        'language': language}])[0]\n",
    "    idxs, distances = indices.get_nns_by_vector(query_embedding, topk, include_distances=True)\n",
    "    return idxs, distances"
   ]
  },
  {
   "cell_type": "code",
   "execution_count": 4,
   "metadata": {},
   "outputs": [
    {
     "name": "stdout",
     "output_type": "stream",
     "text": [
      "Restoring model from ../resources/saved_models/neuralbowmodel-2020-09-28-04-57-49_model_best.pkl.gz\n",
      "WARNING:tensorflow:From /home/dev/src/models/model.py:299: calling norm (from tensorflow.python.ops.linalg_ops) with keep_dims is deprecated and will be removed in a future version.\n",
      "Instructions for updating:\n",
      "keep_dims is deprecated, use keepdims instead\n"
     ]
    }
   ],
   "source": [
    "local_model_path = '../resources/saved_models/neuralbowmodel-2020-09-28-04-57-49_model_best.pkl.gz'\n",
    "model_path = RichPath.create(local_model_path, None)\n",
    "print(\"Restoring model from %s\" % model_path)\n",
    "model = model_restore_helper.restore(\n",
    "    path=model_path,\n",
    "    is_train=False,\n",
    "    hyper_overrides={})"
   ]
  },
  {
   "cell_type": "code",
   "execution_count": 5,
   "metadata": {},
   "outputs": [
    {
     "name": "stdout",
     "output_type": "stream",
     "text": [
      "Evaluating language: python\n"
     ]
    },
    {
     "name": "stderr",
     "output_type": "stream",
     "text": [
      "100%|██████████| 1156085/1156085 [00:03<00:00, 339016.92it/s]\n"
     ]
    },
    {
     "name": "stdout",
     "output_type": "stream",
     "text": [
      "get_code_representations\n"
     ]
    }
   ],
   "source": [
    "predictions = []\n",
    "language = 'python'\n",
    "print(\"Evaluating language: %s\" % language)\n",
    "definitions = pickle.load(open('../resources/data/{}_dedupe_definitions_v2.pkl'.format(language), 'rb'))\n",
    "indexes = [{'code_tokens': d['function_tokens'], 'language': d['language']} for d in tqdm(definitions)]\n",
    "code_representations = model.get_code_representations(indexes[:int(len(indexes)/5)])"
   ]
  },
  {
   "cell_type": "code",
   "execution_count": null,
   "metadata": {},
   "outputs": [],
   "source": [
    "print(len(indexes))"
   ]
  },
  {
   "cell_type": "code",
   "execution_count": 6,
   "metadata": {},
   "outputs": [
    {
     "name": "stderr",
     "output_type": "stream",
     "text": [
      "231217it [00:05, 39596.55it/s]\n"
     ]
    },
    {
     "data": {
      "text/plain": [
       "True"
      ]
     },
     "execution_count": 6,
     "metadata": {},
     "output_type": "execute_result"
    }
   ],
   "source": [
    "indices = AnnoyIndex(code_representations[0].shape[0], 'angular')\n",
    "for index, vector in tqdm(enumerate(code_representations)):\n",
    "    if vector is not None:\n",
    "        indices.add_item(index, vector)\n",
    "indices.build(200)"
   ]
  },
  {
   "cell_type": "code",
   "execution_count": 7,
   "metadata": {},
   "outputs": [],
   "source": [
    "query = 'matrix multiply'"
   ]
  },
  {
   "cell_type": "code",
   "execution_count": 9,
   "metadata": {},
   "outputs": [
    {
     "name": "stdout",
     "output_type": "stream",
     "text": [
      "Top ten results\n",
      "https://github.com/keon/algorithms/blob/4d6569464a62a75c1357acc97e2dd32ee2f9f4a3/algorithms/dfs/pacific_atlantic.py#L56-L65\n",
      "https://github.com/quantumlib/Cirq/blob/0827da80dd7880e5b923eb69407e980ed9bc0bd2/cirq/linalg/predicates.py#L27-L42\n",
      "https://github.com/vaexio/vaex/blob/a45b672f8287afca2ada8e36b74b604b9b28dd85/packages/vaex-core/vaex/column.py#L39-L43\n",
      "https://github.com/mlperf/training/blob/1c6ae725a81d15437a2b2df05cac0673fde5c3a4/data_generation/fractal_graph_expansions/graph_reduction.py#L61-L64\n",
      "https://github.com/quantumlib/Cirq/blob/0827da80dd7880e5b923eb69407e980ed9bc0bd2/cirq/ops/matrix_gates.py#L38-L47\n",
      "https://github.com/tensorflow/probability/blob/e87fe34111d68c35db0f9eeb4935f1ece9e1a8f5/tensorflow_probability/python/internal/distribution_util.py#L686-L689\n",
      "https://github.com/mlperf/training/blob/1c6ae725a81d15437a2b2df05cac0673fde5c3a4/data_generation/fractal_graph_expansions/graph_reduction.py#L31-L33\n",
      "https://github.com/quantumlib/Cirq/blob/0827da80dd7880e5b923eb69407e980ed9bc0bd2/cirq/contrib/quirk/quirk_gate.py#L79-L101\n",
      "https://github.com/apache/spark/blob/618d6bff71073c8c93501ab7392c3cc579730f0b/python/pyspark/mllib/linalg/distributed.py#L705-L720\n",
      "https://github.com/Phylliade/ikpy/blob/60e36d6163136942bf520d952db17123c658d0b6/src/ikpy/geometry_utils.py#L95-L109\n"
     ]
    }
   ],
   "source": [
    "for idx, _ in zip(*query_model(query, model, indices, language)):\n",
    "    predictions.append((query, language, definitions[idx]['identifier'], definitions[idx]['url']))\n",
    "\n",
    "df = pd.DataFrame(predictions, columns=['query', 'language', 'identifier', 'url'])\n",
    "urls = list(df['url'])\n",
    "print(\"Top ten results\")\n",
    "for link in urls[:10]:\n",
    "    print(link)"
   ]
  },
  {
   "cell_type": "code",
   "execution_count": null,
   "metadata": {},
   "outputs": [],
   "source": [
    "df.head(10)"
   ]
  }
 ],
 "metadata": {
  "kernelspec": {
   "display_name": "Python 3",
   "language": "python",
   "name": "python3"
  },
  "language_info": {
   "codemirror_mode": {
    "name": "ipython",
    "version": 3
   },
   "file_extension": ".py",
   "mimetype": "text/x-python",
   "name": "python",
   "nbconvert_exporter": "python",
   "pygments_lexer": "ipython3",
   "version": "3.6.12"
  }
 },
 "nbformat": 4,
 "nbformat_minor": 4
}
